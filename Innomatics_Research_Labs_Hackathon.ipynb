{
 "cells": [
  {
   "cell_type": "code",
   "execution_count": 1,
   "id": "d688824d",
   "metadata": {},
   "outputs": [],
   "source": [
    "import pandas as pd\n",
    "\n",
    "uber_dataset = pd.read_csv(\"uber_dataset.csv\")"
   ]
  },
  {
   "cell_type": "code",
   "execution_count": 2,
   "id": "bea36b8a",
   "metadata": {},
   "outputs": [
    {
     "data": {
      "text/plain": [
       "(200000, 8)"
      ]
     },
     "execution_count": 2,
     "metadata": {},
     "output_type": "execute_result"
    }
   ],
   "source": [
    "uber_dataset.shape"
   ]
  },
  {
   "cell_type": "code",
   "execution_count": 3,
   "id": "29a9274f",
   "metadata": {},
   "outputs": [],
   "source": [
    "col=uber_dataset.select_dtypes(include=['int']).columns"
   ]
  },
  {
   "cell_type": "code",
   "execution_count": 4,
   "id": "bb216e1e",
   "metadata": {},
   "outputs": [
    {
     "data": {
      "text/plain": [
       "2"
      ]
     },
     "execution_count": 4,
     "metadata": {},
     "output_type": "execute_result"
    }
   ],
   "source": [
    "len(col)"
   ]
  },
  {
   "cell_type": "code",
   "execution_count": 5,
   "id": "0eb304b3",
   "metadata": {},
   "outputs": [
    {
     "name": "stdout",
     "output_type": "stream",
     "text": [
      "1\n"
     ]
    }
   ],
   "source": [
    "missing_values = uber_dataset['dropoff_longitude'].isnull().sum()\n",
    "print(missing_values)"
   ]
  },
  {
   "cell_type": "code",
   "execution_count": 6,
   "id": "e2292218",
   "metadata": {},
   "outputs": [
    {
     "name": "stdout",
     "output_type": "stream",
     "text": [
      "object\n"
     ]
    }
   ],
   "source": [
    "pickup_datetime_dtype = uber_dataset['pickup_datetime'].dtype\n",
    "print(pickup_datetime_dtype)"
   ]
  },
  {
   "cell_type": "code",
   "execution_count": 7,
   "id": "e774cfc1",
   "metadata": {},
   "outputs": [
    {
     "name": "stdout",
     "output_type": "stream",
     "text": [
      "Average Fare Amount: 11.359955250000626\n"
     ]
    }
   ],
   "source": [
    "uber_dataset.dropna(subset=['fare_amount'], inplace=True)\n",
    "\n",
    "average_fare = uber_dataset['fare_amount'].mean()\n",
    "\n",
    "print(\"Average Fare Amount:\", average_fare)"
   ]
  },
  {
   "cell_type": "code",
   "execution_count": 8,
   "id": "4a4eda4c",
   "metadata": {},
   "outputs": [
    {
     "name": "stdout",
     "output_type": "stream",
     "text": [
      "Median Haversine Distance: 2.1209923961833708\n"
     ]
    }
   ],
   "source": [
    "import pandas as pd\n",
    "import numpy as np\n",
    "\n",
    "def haversine(lat1, lon1, lat2, lon2):\n",
    "    # Convert latitude and longitude from degrees to radians\n",
    "    lat1, lon1, lat2, lon2 = map(np.radians, [lat1, lon1, lat2, lon2])\n",
    "\n",
    "    # Haversine formula\n",
    "    dlat = lat2 - lat1\n",
    "    dlon = lon2 - lon1\n",
    "    a = np.sin(dlat/2)**2 + np.cos(lat1) * np.cos(lat2) * np.sin(dlon/2)**2\n",
    "    c = 2 * np.arctan2(np.sqrt(a), np.sqrt(1-a))\n",
    "    radius_of_earth = 6371  # Earth's radius in kilometers\n",
    "    distance = radius_of_earth * c\n",
    "\n",
    "    return distance\n",
    "\n",
    "# Calculate Haversine distance for each row\n",
    "uber_dataset['haversine_distance'] = uber_dataset.apply(lambda row: haversine(row['pickup_latitude'], row['pickup_longitude'],\n",
    "                                                          row['dropoff_latitude'], row['dropoff_longitude']), axis=1)\n",
    "\n",
    "# Calculate the median Haversine distance\n",
    "median_distance = uber_dataset['haversine_distance'].median()\n",
    "\n",
    "# Print the median Haversine distance\n",
    "print(\"Median Haversine Distance:\", median_distance)\n"
   ]
  },
  {
   "cell_type": "code",
   "execution_count": 9,
   "id": "5852acf3",
   "metadata": {},
   "outputs": [
    {
     "name": "stdout",
     "output_type": "stream",
     "text": [
      "Maximum Haversine Distance: 16409.239135313168\n"
     ]
    }
   ],
   "source": [
    "max_distance = uber_dataset['haversine_distance'].max()\n",
    "\n",
    "# Print the maximum Haversine distance\n",
    "print(\"Maximum Haversine Distance:\", max_distance)"
   ]
  },
  {
   "cell_type": "code",
   "execution_count": 10,
   "id": "b2f50d69",
   "metadata": {},
   "outputs": [
    {
     "name": "stdout",
     "output_type": "stream",
     "text": [
      "Number of rides with 0.0 Haversine Distance: 5632\n"
     ]
    }
   ],
   "source": [
    "rides_with_zero_distance = (uber_dataset['haversine_distance'] == 0.0).sum()\n",
    "\n",
    "# Print the count of rides with 0.0 Haversine distance\n",
    "print(\"Number of rides with 0.0 Haversine Distance:\", rides_with_zero_distance)"
   ]
  },
  {
   "cell_type": "code",
   "execution_count": 16,
   "id": "3f7bfa88",
   "metadata": {},
   "outputs": [
    {
     "name": "stdout",
     "output_type": "stream",
     "text": [
      "Mean 'fare_amount' for rides with 0.0 Haversine Distance: 11.585317826704578\n"
     ]
    }
   ],
   "source": [
    "zero_distance_rides = uber_dataset[uber_dataset['haversine_distance'] == 0.0]\n",
    "\n",
    "# Calculate the mean 'fare_amount' for rides with 0.0 Haversine distance\n",
    "mean_fare_for_zero_distance_rides = zero_distance_rides['fare_amount'].mean()\n",
    "\n",
    "# Print the mean fare for rides with 0.0 Haversine distance\n",
    "print(\"Mean 'fare_amount' for rides with 0.0 Haversine Distance:\", mean_fare_for_zero_distance_rides)"
   ]
  },
  {
   "cell_type": "code",
   "execution_count": 11,
   "id": "1c5ccc88",
   "metadata": {},
   "outputs": [
    {
     "name": "stdout",
     "output_type": "stream",
     "text": [
      "Maximum 'fare_amount' for a ride: 499.0\n"
     ]
    }
   ],
   "source": [
    "max_fare_amount = uber_dataset['fare_amount'].max()\n",
    "\n",
    "# Print the maximum 'fare_amount'\n",
    "print(\"Maximum 'fare_amount' for a ride:\", max_fare_amount)"
   ]
  },
  {
   "cell_type": "code",
   "execution_count": 13,
   "id": "4f7968ab",
   "metadata": {},
   "outputs": [
    {
     "name": "stdout",
     "output_type": "stream",
     "text": [
      "Haversine Distance for the Costliest Ride: 0.0007899213191009994\n"
     ]
    }
   ],
   "source": [
    "# Find the row with the maximum 'fare_amount'\n",
    "costliest_ride = uber_dataset[uber_dataset['fare_amount'] == uber_dataset['fare_amount'].max()]\n",
    "\n",
    "# Calculate the Haversine distance for the costliest ride\n",
    "costliest_ride_distance = haversine(costliest_ride['pickup_latitude'].values[0],\n",
    "                                     costliest_ride['pickup_longitude'].values[0],\n",
    "                                     costliest_ride['dropoff_latitude'].values[0],\n",
    "                                     costliest_ride['dropoff_longitude'].values[0])\n",
    "\n",
    "# Print the Haversine distance for the costliest ride\n",
    "print(\"Haversine Distance for the Costliest Ride:\", costliest_ride_distance)\n"
   ]
  },
  {
   "cell_type": "code",
   "execution_count": 14,
   "id": "57b038cc",
   "metadata": {},
   "outputs": [
    {
     "name": "stdout",
     "output_type": "stream",
     "text": [
      "Haversine Distance for the Costliest Ride: 0.0007899213191009994\n"
     ]
    }
   ],
   "source": [
    "# Find the row with the maximum 'fare_amount'\n",
    "costliest_ride = uber_dataset[uber_dataset['fare_amount'] == uber_dataset['fare_amount'].max()]\n",
    "\n",
    "# Calculate the Haversine distance for the costliest ride\n",
    "costliest_ride_distance = haversine(costliest_ride['pickup_latitude'].values[0],\n",
    "                                     costliest_ride['pickup_longitude'].values[0],\n",
    "                                     costliest_ride['dropoff_latitude'].values[0],\n",
    "                                     costliest_ride['dropoff_longitude'].values[0])\n",
    "\n",
    "# Print the Haversine distance for the costliest ride\n",
    "print(\"Haversine Distance for the Costliest Ride:\", costliest_ride_distance)\n"
   ]
  },
  {
   "cell_type": "code",
   "execution_count": 15,
   "id": "7d7fb993",
   "metadata": {},
   "outputs": [
    {
     "name": "stdout",
     "output_type": "stream",
     "text": [
      "Number of rides recorded in the year 2014: 29968\n"
     ]
    }
   ],
   "source": [
    "# Assuming you have a DataFrame called 'df' containing the Uber dataset\n",
    "\n",
    "# Convert 'pickup_datetime' column to datetime format if it's not already\n",
    "uber_dataset['pickup_datetime'] = pd.to_datetime(uber_dataset['pickup_datetime'])\n",
    "\n",
    "# Extract the year from the 'pickup_datetime' column\n",
    "uber_dataset['pickup_year'] = uber_dataset['pickup_datetime'].dt.year\n",
    "\n",
    "# Count the number of rides recorded in the year 2014\n",
    "rides_in_2014 = (uber_dataset['pickup_year'] == 2014).sum()\n",
    "\n",
    "# Print the number of rides recorded in 2014\n",
    "print(\"Number of rides recorded in the year 2014:\", rides_in_2014)\n"
   ]
  },
  {
   "cell_type": "code",
   "execution_count": 16,
   "id": "3de15456",
   "metadata": {},
   "outputs": [
    {
     "name": "stdout",
     "output_type": "stream",
     "text": [
      "Number of rides recorded in the first quarter of 2014: 7687\n"
     ]
    }
   ],
   "source": [
    "# Assuming you have a DataFrame called 'df' containing the Uber dataset\n",
    "\n",
    "# Convert 'pickup_datetime' column to datetime format if it's not already\n",
    "uber_dataset['pickup_datetime'] = pd.to_datetime(uber_dataset['pickup_datetime'])\n",
    "\n",
    "# Extract the quarter from the 'pickup_datetime' column\n",
    "uber_dataset['pickup_quarter'] = uber_dataset['pickup_datetime'].dt.quarter\n",
    "\n",
    "# Count the number of rides recorded in the first quarter of 2014 (Quarter 1)\n",
    "rides_in_first_quarter_2014 = ((uber_dataset['pickup_year'] == 2014) & (uber_dataset['pickup_quarter'] == 1)).sum()\n",
    "\n",
    "# Print the number of rides recorded in the first quarter of 2014\n",
    "print(\"Number of rides recorded in the first quarter of 2014:\", rides_in_first_quarter_2014)\n"
   ]
  },
  {
   "cell_type": "code",
   "execution_count": 17,
   "id": "2b77bf11",
   "metadata": {},
   "outputs": [
    {
     "name": "stdout",
     "output_type": "stream",
     "text": [
      "Day of the week in September 2010 with maximum rides: Thursday\n"
     ]
    }
   ],
   "source": [
    "# Assuming you have a DataFrame called 'df' containing the Uber dataset\n",
    "\n",
    "# Convert 'pickup_datetime' column to datetime format if it's not already\n",
    "uber_dataset['pickup_datetime'] = pd.to_datetime(uber_dataset['pickup_datetime'])\n",
    "\n",
    "# Extract the year and month from the 'pickup_datetime' column\n",
    "uber_dataset['pickup_year'] = uber_dataset['pickup_datetime'].dt.year\n",
    "uber_dataset['pickup_month'] = uber_dataset['pickup_datetime'].dt.month\n",
    "\n",
    "# Filter the DataFrame to include only rides in September 2010\n",
    "september_2010_rides = uber_dataset[(uber_dataset['pickup_year'] == 2010) & (uber_dataset['pickup_month'] == 9)]\n",
    "\n",
    "# Calculate the day of the week for each ride and count occurrences\n",
    "day_of_week_counts = september_2010_rides['pickup_datetime'].dt.day_name().value_counts()\n",
    "\n",
    "# Find the day with the maximum number of rides\n",
    "max_rides_day = day_of_week_counts.idxmax()\n",
    "\n",
    "# Print the day of the week with the maximum rides\n",
    "print(\"Day of the week in September 2010 with maximum rides:\", max_rides_day)\n"
   ]
  }
 ],
 "metadata": {
  "kernelspec": {
   "display_name": "Python 3 (ipykernel)",
   "language": "python",
   "name": "python3"
  },
  "language_info": {
   "codemirror_mode": {
    "name": "ipython",
    "version": 3
   },
   "file_extension": ".py",
   "mimetype": "text/x-python",
   "name": "python",
   "nbconvert_exporter": "python",
   "pygments_lexer": "ipython3",
   "version": "3.9.13"
  }
 },
 "nbformat": 4,
 "nbformat_minor": 5
}
